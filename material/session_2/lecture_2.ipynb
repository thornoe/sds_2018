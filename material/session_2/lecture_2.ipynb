{
 "cells": [
  {
   "cell_type": "markdown",
   "metadata": {
    "slideshow": {
     "slide_type": "slide"
    }
   },
   "source": [
    "# Session 2: \n",
    "\n",
    "## Markdown and Git\n",
    "Kristoffer Glavind"
   ]
  },
  {
   "cell_type": "markdown",
   "metadata": {
    "slideshow": {
     "slide_type": "slide"
    }
   },
   "source": [
    "# Agenda\n",
    "- In this session we will get some useful tools to conduct research. \n",
    "\n",
    "- `Git` is a version control system\n",
    "    - It is useful when several people are colaborating on the same code. \n",
    "    - Today: Motivation for trying Git\n",
    "\n",
    "- `Markdown` which is an easy to use text operator. \n",
    "    - Start using Markdown "
   ]
  },
  {
   "cell_type": "markdown",
   "metadata": {
    "slideshow": {
     "slide_type": "slide"
    }
   },
   "source": [
    "# Git: Version control"
   ]
  },
  {
   "cell_type": "markdown",
   "metadata": {
    "slideshow": {
     "slide_type": "slide"
    }
   },
   "source": [
    "# Why version control: Track of files/code\n",
    "\n",
    "- Helps you to keep track of different version of your code"
   ]
  },
  {
   "cell_type": "markdown",
   "metadata": {
    "slideshow": {
     "slide_type": "slide"
    }
   },
   "source": [
    "Enables you to work with several people on the same code or text, at the same time. \n",
    "    - Might sound like a trivial problem, but in reality, there are a lot of challenges. \n",
    "        - Confliced copies\n",
    "        - Hard to track changes and why there done\n",
    "        - Lots of files, taking up space"
   ]
  },
  {
   "cell_type": "markdown",
   "metadata": {
    "slideshow": {
     "slide_type": "slide"
    }
   },
   "source": [
    "## Without git\n",
    "![](https://raw.githubusercontent.com/abjer/sds2017/master/slides/figures/nogit.jpg)"
   ]
  },
  {
   "cell_type": "markdown",
   "metadata": {
    "slideshow": {
     "slide_type": "slide"
    }
   },
   "source": [
    "## With Git\n",
    "![](https://raw.githubusercontent.com/abjer/sds2017/master/slides/figures/git.jpg)"
   ]
  },
  {
   "cell_type": "markdown",
   "metadata": {
    "slideshow": {
     "slide_type": "slide"
    }
   },
   "source": [
    "## Why version control: Detailed log\n",
    "\n",
    "> Your closest collaborator is yourself 6 month ago - and you are not anwering e-mails. \n",
    "\n",
    "- Detailed log of all changes        \n",
    "    - When, who, what\n",
    "- Easy to revert back to previous versions (remembers forever)    \n",
    "\n",
    "- Clear attribution of work (who contributed what)\n",
    "\n",
    "- Other differences from DropBox/Google Drive etc.? Some files are shared, some not\n"
   ]
  },
  {
   "cell_type": "markdown",
   "metadata": {
    "slideshow": {
     "slide_type": "slide"
    }
   },
   "source": [
    "# What is Git\n",
    "\n",
    "**what is `git`**?\n",
    "Git is an open source command line program for version control.\n",
    "\n",
    "**what is `github`**? \n",
    "Company/web services that hosts Git repositories and enables 'social coding'\n",
    "\n",
    "**What is GitHub for Mac/Windows?**\n",
    "A GUI (Graphical User Interface) for Git.\n",
    "\n",
    "Makes it easier to use.\n",
    "\n",
    "Ultimately just does command line Git.\n"
   ]
  },
  {
   "cell_type": "markdown",
   "metadata": {
    "slideshow": {
     "slide_type": "slide"
    }
   },
   "source": [
    "# GitHub for desktop\n",
    "\n",
    "## Vocabulary\n",
    "\n",
    "- Repository: The place where your files are keeped\n",
    "- Clone: Make a folder on your computer, with the content of a repository\n",
    "- Pull: To download the newest version of a repository\n",
    "- Push: Push the changes you have made, to the repository"
   ]
  },
  {
   "cell_type": "markdown",
   "metadata": {
    "slideshow": {
     "slide_type": "slide"
    }
   },
   "source": [
    "## Alternatives and resources \n",
    "\n",
    "If you want to keep coding, you will have to get familiar with Git sooner or later. But there are alternatives. \n",
    "\n",
    "- Google's [Colab.Research](https://colab.research.google.com/notebooks/welcome.ipynb#recent=true) which is a combination of Google Docs and Jupyter Notebook. \n",
    "- Plug and play: is an easy to use, less flexible, alternative. \n",
    "\n",
    "More about Git\n",
    "- Google is your friend \n",
    "- Online tutorials ([DataCamps tutorial on Git](https://www.datacamp.com/courses/introduction-to-git-for-data-science) is very useful) \n",
    "- Try it!"
   ]
  },
  {
   "cell_type": "markdown",
   "metadata": {
    "slideshow": {
     "slide_type": "slide"
    }
   },
   "source": [
    "# Markdown              \n",
    "                       \n",
    "                        \n",
    "- Markdown is an easy to use text editor\n",
    "    - WYSIWYG (What you see is what you get)\n",
    "    - Used in Jupyter Notebook\n",
    "    - Can be used to make Homepages (SDS) or slideshows (like this one)\n",
    "    \n",
    "- Basic functionalities in Markdown\n",
    "- You try in the exercises"
   ]
  },
  {
   "cell_type": "markdown",
   "metadata": {
    "slideshow": {
     "slide_type": "slide"
    }
   },
   "source": [
    "# Headlines\n",
    "\n",
    "\\# This will be the headline    \n",
    "\\#\\# This will be the sub headline  \n",
    "\\#\\#\\# And so on \n",
    "\n",
    "---------------------\n",
    "\n",
    "# This will be the headline\n",
    "## This will be the sub headline\n",
    "### And so on\n"
   ]
  },
  {
   "cell_type": "markdown",
   "metadata": {
    "slideshow": {
     "slide_type": "slide"
    }
   },
   "source": [
    "# Bold and italics\n",
    "\n",
    "- \\*\\*Text in bold\\*\\* ->  **Text in bold**\n",
    "\n",
    "- \\*Text in italics\\* -> *Text in italics* \n",
    "\n",
    "\\> This text will be indented \n",
    "> This text will be indented \n"
   ]
  },
  {
   "cell_type": "markdown",
   "metadata": {
    "slideshow": {
     "slide_type": "slide"
    }
   },
   "source": [
    "# Lists\n",
    "\n",
    "``` \n",
    "- fruits \n",
    "    - apples\n",
    "        - macintosh\n",
    "        - red delicious\n",
    "    - pears \n",
    "    - peaches\n",
    "- vegetables\n",
    "    - broccoli\n",
    "    - chard \n",
    "    ```"
   ]
  },
  {
   "cell_type": "markdown",
   "metadata": {
    "slideshow": {
     "slide_type": "slide"
    }
   },
   "source": [
    "# ... gives you this list\n",
    "- fruits \n",
    "    - apples\n",
    "        - macintosh\n",
    "        - red delicious\n",
    "    - pears \n",
    "    - peaches\n",
    "- vegetables\n",
    "    - broccoli\n",
    "    - chard"
   ]
  },
  {
   "cell_type": "markdown",
   "metadata": {
    "slideshow": {
     "slide_type": "slide"
    }
   },
   "source": [
    "# Links\n",
    "\n",
    "This is how you insert a link `[name of link](URL)` \n",
    "```\n",
    "The subreddit [DataIsBeautiful](https://www.reddit.com/r/dataisbeautiful/) loves data\n",
    "```\n",
    "\n",
    "-> \n",
    "\n",
    "The subreddit [DataIsBeautiful](https://www.reddit.com/r/dataisbeautiful/) loves data"
   ]
  },
  {
   "cell_type": "markdown",
   "metadata": {
    "slideshow": {
     "slide_type": "slide"
    }
   },
   "source": [
    "# Images\n",
    "It is almost the same, to insert an image `![](URL)`\n",
    "\n",
    "```\n",
    "This is a cat ![](http://drupal-images.imgix.net/2015/07/03/20150622-113315-4_18Mb.jpg?auto=format&crop=faces&fit=crop&ixjsv=1.1.3&q=82&w=620&h=349) is cute\n",
    "```\n",
    "\n",
    "This is a cat ![](http://drupal-images.imgix.net/2015/07/03/20150622-113315-4_18Mb.jpg?auto=format&crop=faces&fit=crop&ixjsv=1.1.3&q=82&w=620&h=349) is cute"
   ]
  },
  {
   "cell_type": "markdown",
   "metadata": {
    "slideshow": {
     "slide_type": "slide"
    }
   },
   "source": [
    "# Now for Exercises 2"
   ]
  }
 ],
 "metadata": {
  "celltoolbar": "Slideshow",
  "kernelspec": {
   "display_name": "Python 3",
   "language": "python",
   "name": "python3"
  },
  "language_info": {
   "codemirror_mode": {
    "name": "ipython",
    "version": 3
   },
   "file_extension": ".py",
   "mimetype": "text/x-python",
   "name": "python",
   "nbconvert_exporter": "python",
   "pygments_lexer": "ipython3",
   "version": "3.6.3"
  }
 },
 "nbformat": 4,
 "nbformat_minor": 2
}
